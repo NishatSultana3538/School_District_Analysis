{
 "cells": [
  {
   "cell_type": "code",
   "execution_count": null,
   "metadata": {},
   "outputs": [],
   "source": [
    "# Dependencies and Setup\n",
    "import pandas as pd\n",
    "\n",
    "# File to Load (Remember to change the path if needed.)\n",
    "school_data_to_load = \"Resources/schools_complete.csv\"\n",
    "student_data_to_load = \"Resources/students_complete.csv\"\n",
    "\n",
    "# Read the School Data and Student Data and store into a Pandas DataFrame\n",
    "school_data_df = pd.read_csv(school_data_to_load)\n",
    "student_data_df = pd.read_csv(student_data_to_load)\n",
    "\n",
    "# Cleaning Student Names and Replacing Substrings in a Python String\n",
    "# Add each prefix and suffix to remove to a list.\n",
    "prefixes_suffixes = [\"Dr. \", \"Mr. \",\"Ms. \", \"Mrs. \", \"Miss \", \" MD\", \" DDS\", \" DVM\", \" PhD\"]\n",
    "\n",
    "# Iterate through the words in the \"prefixes_suffixes\" list and replace them with an empty space, \"\".\n",
    "for word in prefixes_suffixes:\n",
    "    student_data_df[\"student_name\"] = student_data_df[\"student_name\"].str.replace(word,\"\")\n",
    "\n",
    "# Check names.\n",
    "student_data_df.head(10)"
   ]
  },
  {
   "cell_type": "code",
   "execution_count": null,
   "metadata": {},
   "outputs": [],
   "source": [
    "# Install numpy using conda install numpy or pip install numpy. \n",
    "# Step 1. Import numpy as np.\n",
    "import numpy as np"
   ]
  },
  {
   "cell_type": "code",
   "execution_count": 1,
   "metadata": {},
   "outputs": [
    {
     "ename": "SyntaxError",
     "evalue": "invalid syntax (<ipython-input-1-049633a34e89>, line 2)",
     "output_type": "error",
     "traceback": [
      "\u001b[0;36m  File \u001b[0;32m\"<ipython-input-1-049633a34e89>\"\u001b[0;36m, line \u001b[0;32m2\u001b[0m\n\u001b[0;31m    student_data_df.loc[]\u001b[0m\n\u001b[0m                        ^\u001b[0m\n\u001b[0;31mSyntaxError\u001b[0m\u001b[0;31m:\u001b[0m invalid syntax\n"
     ]
    }
   ],
   "source": [
    "# Step 2. Use the loc method on the student_data_df to select all the reading scores from the 9th grade at Thomas High School and replace them with NaN.\n",
    "student_data_df.loc[]\n",
    "\n"
   ]
  },
  {
   "cell_type": "code",
   "execution_count": null,
   "metadata": {},
   "outputs": [],
   "source": [
    "# grouped by type\n",
    "by_type = school_data_merged.groupby(\"type\")\n",
    "\n",
    "#calculations \n",
    "avg_score_by_type = by_type['math_score'].mean()\n",
    "avg_reading_by_type = by_type['math_score'].mean()\n",
    "passing_math_by_type = school_data_merged[school_data_merged['math_score'] >= 70].groupby('type')['Student ID'].count()/by_type['Student ID'].count()\n",
    "passing_read_by_type = school_data_merged[school_data_merged['reading_score'] >= 70].groupby('type')['Student ID'].count()/by_type['Student ID'].count()\n",
    "overall_by_type = school_data_merged[(school_data_merged['reading_score'] >= 70) & (school_data_merged['math_score'] >= 70)].groupby('type')['Student ID'].count()/by_type['Student ID'].count()\n",
    "\n",
    "# df build            \n",
    "scores_by_type = pd.DataFrame({\n",
    "    \"Average Math Score\": avg_score_by_type,\n",
    "    \"Average Reading Score\": avg_reading_by_type,\n",
    "    'Passing Math Rate': passing_math_by_type,\n",
    "    'Passing Reading Rate': passing_read_by_type,\n",
    "    \"Overall Passing Rate\": overall_by_type})\n",
    "    \n",
    "scores_by_type.index.name = \"Type of School\"\n",
    "\n",
    "\n",
    "#formating\n",
    "scores_by_type.style.format({'Average Math Score': '{:.1f}', \n",
    "                              'Average Reading Score': '{:.1f}', \n",
    "                              'Passing Math Rate': '{:.1%}', \n",
    "                              'Passing Reading Rate':'{:.1%}', \n",
    "                              'Overall Passing Rate': '{:.1%}'})"
   ]
  },
  {
   "cell_type": "code",
   "execution_count": null,
   "metadata": {},
   "outputs": [],
   "source": [
    "bins = [0, 999, 1999, 999999]\n",
    "group_name = [\"Small (<1000)\", \"Medium (1000-2000)\" , \"Large (>2000)\"]\n",
    "school_data_merged['size_bins'] = pd.cut(school_data_merged['size'], bins, labels = group_name)\n",
    "\n",
    "#group bins\n",
    "school_size = school_data_merged.groupby('size_bins')\n",
    "\n",
    "#stats \n",
    "avg_math = school_size['math_score'].mean()\n",
    "avg_read = school_size['math_score'].mean()\n",
    "pass_math = school_data_merged[school_data_merged['math_score'] >= 70].groupby('size_bins')['Student ID'].count()/school_size['Student ID'].count()\n",
    "pass_read = school_data_merged[school_data_merged['reading_score'] >= 70].groupby('size_bins')['Student ID'].count()/school_size['Student ID'].count()\n",
    "overall = school_data_merged[(school_data_merged['reading_score'] >= 70) & (school_data_merged['math_score'] >= 70)].groupby('size_bins')['Student ID'].count()/school_size['Student ID'].count()\n",
    "\n",
    "            \n",
    "# create df            \n",
    "scores_by_size = pd.DataFrame({\n",
    "    \"Average Math Score\": avg_math,\n",
    "    \"Average Reading Score\": avg_read,\n",
    "    'Passing Math Rate': pass_math,\n",
    "    'Passing Reading Rate': pass_read,\n",
    "    \"Overall Passing Rate\": overall\n",
    "            \n",
    "})\n",
    "\n",
    "scores_by_size.index.name = \"Total # of Students\"\n",
    "scores_by_size = scores_by_size.reindex(group_name)\n",
    "\n",
    "#format\n",
    "scores_by_size.style.format({'Average Math Score': '{:.1f}', \n",
    "                              'Average Reading Score': '{:.1f}', \n",
    "                              'Passing Math Rate': '{:.1%}', \n",
    "                              'Passing Reading Rate':'{:.1%}', \n",
    "                              'Overall Passing Rate': '{:.1%}'}) "
   ]
  },
  {
   "cell_type": "code",
   "execution_count": null,
   "metadata": {},
   "outputs": [],
   "source": [
    "#binning\n",
    "bins = [0, 549.999, 585.999, 615.999, 999999]\n",
    "group_name = ['< $550', \"$550 - 585\", \"$586 - 615\", \"> $615\"]\n",
    "school_data_merged['spending_bins'] = pd.cut(school_data_merged['budget']/school_data_merged['size'], bins, labels = group_name)\n",
    "\n",
    "\n",
    "#group bins\n",
    "scores_by_spending = school_data_merged.groupby('spending_bins')\n",
    "\n",
    "#stats\n",
    "avg_math_by_spending = scores_by_spending['math_score'].mean()\n",
    "avg_reading_by_spending = scores_by_spending['reading_score'].mean()\n",
    "pass_math_by_spending = school_data_merged[school_data_merged['math_score'] >= 70].groupby('spending_bins')['Student ID'].count()/scores_by_spending['Student ID'].count()\n",
    "pass_reading_by_spending = school_data_merged[school_data_merged['reading_score'] >= 70].groupby('spending_bins')['Student ID'].count()/scores_by_spending['Student ID'].count()\n",
    "overall_rate_by_spending = school_data_merged[(school_data_merged['reading_score'] >= 70) & (school_data_merged['math_score'] >= 70)].groupby('spending_bins')['Student ID'].count()/scores_by_spending['Student ID'].count()\n",
    "\n",
    "            \n",
    "# create df           \n",
    "scores_by_spend = pd.DataFrame({\n",
    "    \"Average Math Score\": avg_math_by_spending,\n",
    "    \"Average Reading Score\": avg_reading_by_spending,\n",
    "    'Passing Math Rate': pass_math_by_spending,\n",
    "    'Passing Reading Rate': pass_reading_by_spending,\n",
    "    \"Overall Passing Rate\": overall_rate_by_spending\n",
    "            \n",
    "})\n",
    "\n",
    "scores_by_spend.index.name = \"Per Student Budget\"\n",
    "scores_by_spend = scores_by_spend.reindex(group_name)\n"
   ]
  },
  {
   "cell_type": "code",
   "execution_count": null,
   "metadata": {},
   "outputs": [],
   "source": []
  }
 ],
 "metadata": {
  "kernelspec": {
   "display_name": "PythonData",
   "language": "python",
   "name": "pythondata"
  },
  "language_info": {
   "codemirror_mode": {
    "name": "ipython",
    "version": 2
   },
   "file_extension": ".py",
   "mimetype": "text/x-python",
   "name": "python",
   "nbconvert_exporter": "python",
   "pygments_lexer": "ipython2",
   "version": "2.7.18"
  }
 },
 "nbformat": 4,
 "nbformat_minor": 4
}
